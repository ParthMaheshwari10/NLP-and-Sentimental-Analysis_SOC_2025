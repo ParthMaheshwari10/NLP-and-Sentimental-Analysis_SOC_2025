{
  "nbformat": 4,
  "nbformat_minor": 0,
  "metadata": {
    "colab": {
      "provenance": []
    },
    "kernelspec": {
      "name": "python3",
      "display_name": "Python 3"
    },
    "language_info": {
      "name": "python"
    }
  },
  "cells": [
    {
      "cell_type": "markdown",
      "source": [
        "# **Assignment 1**"
      ],
      "metadata": {
        "id": "VUKN5j8eMUQr"
      }
    },
    {
      "cell_type": "markdown",
      "source": [
        "# Question 1"
      ],
      "metadata": {
        "id": "wAbQW-AI3UqX"
      }
    },
    {
      "cell_type": "code",
      "execution_count": 1,
      "metadata": {
        "colab": {
          "base_uri": "https://localhost:8080/"
        },
        "collapsed": true,
        "id": "dnZE4Ogn3M2T",
        "outputId": "fbb21fbc-d1cd-48da-87d5-4b6462977a78"
      },
      "outputs": [
        {
          "output_type": "stream",
          "name": "stderr",
          "text": [
            "[nltk_data] Downloading package punkt to /root/nltk_data...\n",
            "[nltk_data]   Package punkt is already up-to-date!\n",
            "[nltk_data] Downloading package stopwords to /root/nltk_data...\n",
            "[nltk_data]   Package stopwords is already up-to-date!\n",
            "[nltk_data] Downloading package averaged_perceptron_tagger to\n",
            "[nltk_data]     /root/nltk_data...\n",
            "[nltk_data]   Package averaged_perceptron_tagger is already up-to-\n",
            "[nltk_data]       date!\n",
            "[nltk_data] Downloading package wordnet to /root/nltk_data...\n",
            "[nltk_data]   Package wordnet is already up-to-date!\n",
            "[nltk_data] Downloading package omw-1.4 to /root/nltk_data...\n",
            "[nltk_data]   Package omw-1.4 is already up-to-date!\n",
            "[nltk_data] Downloading package punkt_tab to /root/nltk_data...\n",
            "[nltk_data]   Package punkt_tab is already up-to-date!\n",
            "[nltk_data] Downloading package averaged_perceptron_tagger_eng to\n",
            "[nltk_data]     /root/nltk_data...\n",
            "[nltk_data]   Package averaged_perceptron_tagger_eng is already up-to-\n",
            "[nltk_data]       date!\n"
          ]
        },
        {
          "output_type": "execute_result",
          "data": {
            "text/plain": [
              "True"
            ]
          },
          "metadata": {},
          "execution_count": 1
        }
      ],
      "source": [
        "import nltk\n",
        "import pandas as pd\n",
        "from nltk.tokenize import word_tokenize\n",
        "from nltk.corpus import stopwords\n",
        "from nltk.stem import PorterStemmer, WordNetLemmatizer\n",
        "from nltk import pos_tag\n",
        "\n",
        "# Download required NLTK data\n",
        "nltk.download('punkt')\n",
        "nltk.download('stopwords')\n",
        "nltk.download('averaged_perceptron_tagger')\n",
        "nltk.download('wordnet')\n",
        "nltk.download('omw-1.4')\n",
        "nltk.download('punkt_tab')\n",
        "nltk.download('averaged_perceptron_tagger_eng')"
      ]
    },
    {
      "cell_type": "code",
      "source": [
        "# 5 Movie reviews of the movie \"Orphan\" taken from IMDb\n",
        "sample_texts = [\n",
        "    \"Orphan is flawed 2009 psychological horror film that will keep you hooked via its characters and Isabelle Fuhrman's portrayal of Esther. Despite the flaws in storytelling, it still has it moments of fantastic horror.\",\n",
        "\n",
        "    \"I enjoyed much of this but there were a few silly moments and I feel if the film had been cut down to 90 minutes we could have got rid of those embarrasing bits and made the whole ting tighter. The acting is fine, especially the two girls and that of Isabelle Fuhrman, who at times seems to be carrying the film, is remarkable. Inevitably, perhaps there are unfortunately those times, as in 'gas lighting' films where we sit frustrated urging those on screen to notice the obvious to no avail and then on we go as everything gets more and more embroiled.\",\n",
        "\n",
        "    \"The movie is overall good but the husband in this movie is stupid\",\n",
        "\n",
        "    \"You either love it or you hate it. That's really the effect of any great twist. I was one of those who absolutely loved it and found this creepy, disturbing movie even more terrifying with the reveal. Vera Farmiga (Conjuring) stars as a mother whose just gone through a miscarriage and with her husband played by Peter Sarsgaard (Skeleton Key) decides to adopt a mysterious young girl played by a very creepy Isabel Fuhrman (Hunger Games). At first Esther seems a little off but it's mostly acceptable until people begin having horrific accidents and some go missing. There is a palpable sense of dread that builds throughout the film and so many setpieces are expertly executed. The scene in the playground is an especially effective one. The film culminates in a surprising and edge of your seat fashion and all though there's a small loop hole here and there. Its completely successful at being a stylish, unique, intense piece of genre.\",\n",
        "\n",
        "    \"Loved the movie, it's just so disturbing and thrilling and suspenseful, the opening scene is very perturbing as the baby covered in blood and the husband taping her as the poor woman miscarriages is disgusting and chills me. Now I really loved Esther and I really clapped in the theater when she dumped the bratty girl down the slide. The fluorescent paint is a good touch. Now people should realize the movie has a whole sexual climax and the movie's theme is about Esther trying to find her sexuality. We find that out on the twist when we realize she was a 35 year old girl with dwarfism and she wanted to find her sexual manners around men who think she is a girl. And I was really disturbed when the men found the fluorescent paintings in the walls with she and him having sex and all of them are dead except for them. The only reason I gave it an 8 was because of the 2 hours with 3 minutes length and had an unnecessary long character development which almost had me sleeping in the movie theater but then I got woken up by the intensity that followed the the boringness.\"\n",
        "]"
      ],
      "metadata": {
        "id": "ya8O45Y73dee"
      },
      "execution_count": 2,
      "outputs": []
    },
    {
      "cell_type": "code",
      "source": [
        "# Initialize tools\n",
        "stop_words = set(stopwords.words('english'))\n",
        "stemmer = PorterStemmer()\n",
        "lemmatizer = WordNetLemmatizer()\n",
        "\n",
        "# Analyze each sentence\n",
        "results = []\n",
        "\n",
        "for text in sample_texts:\n",
        "    tokens = word_tokenize(text)\n",
        "    tokens_no_stop = [w for w in tokens if w.lower() not in stop_words and w.isalpha()]\n",
        "    stemmed = [stemmer.stem(w) for w in tokens_no_stop]\n",
        "    lemmatized = [lemmatizer.lemmatize(w) for w in tokens_no_stop]\n",
        "    pos_tags = pos_tag(tokens_no_stop, lang='eng')\n",
        "\n",
        "    for i in range(len(tokens_no_stop)):\n",
        "        word_data = {\n",
        "            'Original Word': tokens_no_stop[i],\n",
        "            'Stemmed': stemmed[i],\n",
        "            'Lemmatized': lemmatized[i],\n",
        "            'POS Tag': pos_tags[i][1]\n",
        "        }\n",
        "        results.append(word_data)\n",
        "\n",
        "# Convert to DataFrame\n",
        "df_q1 = pd.DataFrame(results)\n",
        "\n",
        "df_q1.head(15)"
      ],
      "metadata": {
        "colab": {
          "base_uri": "https://localhost:8080/",
          "height": 520
        },
        "id": "WsV6xWFU3jX6",
        "outputId": "c49fc9ea-9ca2-4839-f91e-93bae57d8901"
      },
      "execution_count": 3,
      "outputs": [
        {
          "output_type": "execute_result",
          "data": {
            "text/plain": [
              "    Original Word    Stemmed     Lemmatized POS Tag\n",
              "0          Orphan     orphan         Orphan     NNP\n",
              "1          flawed       flaw         flawed     VBD\n",
              "2   psychological  psycholog  psychological      JJ\n",
              "3          horror     horror         horror      NN\n",
              "4            film       film           film      NN\n",
              "5            keep       keep           keep      VB\n",
              "6          hooked       hook         hooked      JJ\n",
              "7             via        via            via      IN\n",
              "8      characters    charact      character     NNS\n",
              "9        Isabelle     isabel       Isabelle     NNP\n",
              "10        Fuhrman    fuhrman        Fuhrman     NNP\n",
              "11      portrayal    portray      portrayal     VBZ\n",
              "12         Esther     esther         Esther     NNP\n",
              "13        Despite     despit        Despite      IN\n",
              "14          flaws       flaw           flaw     NNS"
            ],
            "text/html": [
              "\n",
              "  <div id=\"df-27e01bc5-a9ce-43bf-b0dc-f4f4fce4ef6d\" class=\"colab-df-container\">\n",
              "    <div>\n",
              "<style scoped>\n",
              "    .dataframe tbody tr th:only-of-type {\n",
              "        vertical-align: middle;\n",
              "    }\n",
              "\n",
              "    .dataframe tbody tr th {\n",
              "        vertical-align: top;\n",
              "    }\n",
              "\n",
              "    .dataframe thead th {\n",
              "        text-align: right;\n",
              "    }\n",
              "</style>\n",
              "<table border=\"1\" class=\"dataframe\">\n",
              "  <thead>\n",
              "    <tr style=\"text-align: right;\">\n",
              "      <th></th>\n",
              "      <th>Original Word</th>\n",
              "      <th>Stemmed</th>\n",
              "      <th>Lemmatized</th>\n",
              "      <th>POS Tag</th>\n",
              "    </tr>\n",
              "  </thead>\n",
              "  <tbody>\n",
              "    <tr>\n",
              "      <th>0</th>\n",
              "      <td>Orphan</td>\n",
              "      <td>orphan</td>\n",
              "      <td>Orphan</td>\n",
              "      <td>NNP</td>\n",
              "    </tr>\n",
              "    <tr>\n",
              "      <th>1</th>\n",
              "      <td>flawed</td>\n",
              "      <td>flaw</td>\n",
              "      <td>flawed</td>\n",
              "      <td>VBD</td>\n",
              "    </tr>\n",
              "    <tr>\n",
              "      <th>2</th>\n",
              "      <td>psychological</td>\n",
              "      <td>psycholog</td>\n",
              "      <td>psychological</td>\n",
              "      <td>JJ</td>\n",
              "    </tr>\n",
              "    <tr>\n",
              "      <th>3</th>\n",
              "      <td>horror</td>\n",
              "      <td>horror</td>\n",
              "      <td>horror</td>\n",
              "      <td>NN</td>\n",
              "    </tr>\n",
              "    <tr>\n",
              "      <th>4</th>\n",
              "      <td>film</td>\n",
              "      <td>film</td>\n",
              "      <td>film</td>\n",
              "      <td>NN</td>\n",
              "    </tr>\n",
              "    <tr>\n",
              "      <th>5</th>\n",
              "      <td>keep</td>\n",
              "      <td>keep</td>\n",
              "      <td>keep</td>\n",
              "      <td>VB</td>\n",
              "    </tr>\n",
              "    <tr>\n",
              "      <th>6</th>\n",
              "      <td>hooked</td>\n",
              "      <td>hook</td>\n",
              "      <td>hooked</td>\n",
              "      <td>JJ</td>\n",
              "    </tr>\n",
              "    <tr>\n",
              "      <th>7</th>\n",
              "      <td>via</td>\n",
              "      <td>via</td>\n",
              "      <td>via</td>\n",
              "      <td>IN</td>\n",
              "    </tr>\n",
              "    <tr>\n",
              "      <th>8</th>\n",
              "      <td>characters</td>\n",
              "      <td>charact</td>\n",
              "      <td>character</td>\n",
              "      <td>NNS</td>\n",
              "    </tr>\n",
              "    <tr>\n",
              "      <th>9</th>\n",
              "      <td>Isabelle</td>\n",
              "      <td>isabel</td>\n",
              "      <td>Isabelle</td>\n",
              "      <td>NNP</td>\n",
              "    </tr>\n",
              "    <tr>\n",
              "      <th>10</th>\n",
              "      <td>Fuhrman</td>\n",
              "      <td>fuhrman</td>\n",
              "      <td>Fuhrman</td>\n",
              "      <td>NNP</td>\n",
              "    </tr>\n",
              "    <tr>\n",
              "      <th>11</th>\n",
              "      <td>portrayal</td>\n",
              "      <td>portray</td>\n",
              "      <td>portrayal</td>\n",
              "      <td>VBZ</td>\n",
              "    </tr>\n",
              "    <tr>\n",
              "      <th>12</th>\n",
              "      <td>Esther</td>\n",
              "      <td>esther</td>\n",
              "      <td>Esther</td>\n",
              "      <td>NNP</td>\n",
              "    </tr>\n",
              "    <tr>\n",
              "      <th>13</th>\n",
              "      <td>Despite</td>\n",
              "      <td>despit</td>\n",
              "      <td>Despite</td>\n",
              "      <td>IN</td>\n",
              "    </tr>\n",
              "    <tr>\n",
              "      <th>14</th>\n",
              "      <td>flaws</td>\n",
              "      <td>flaw</td>\n",
              "      <td>flaw</td>\n",
              "      <td>NNS</td>\n",
              "    </tr>\n",
              "  </tbody>\n",
              "</table>\n",
              "</div>\n",
              "    <div class=\"colab-df-buttons\">\n",
              "\n",
              "  <div class=\"colab-df-container\">\n",
              "    <button class=\"colab-df-convert\" onclick=\"convertToInteractive('df-27e01bc5-a9ce-43bf-b0dc-f4f4fce4ef6d')\"\n",
              "            title=\"Convert this dataframe to an interactive table.\"\n",
              "            style=\"display:none;\">\n",
              "\n",
              "  <svg xmlns=\"http://www.w3.org/2000/svg\" height=\"24px\" viewBox=\"0 -960 960 960\">\n",
              "    <path d=\"M120-120v-720h720v720H120Zm60-500h600v-160H180v160Zm220 220h160v-160H400v160Zm0 220h160v-160H400v160ZM180-400h160v-160H180v160Zm440 0h160v-160H620v160ZM180-180h160v-160H180v160Zm440 0h160v-160H620v160Z\"/>\n",
              "  </svg>\n",
              "    </button>\n",
              "\n",
              "  <style>\n",
              "    .colab-df-container {\n",
              "      display:flex;\n",
              "      gap: 12px;\n",
              "    }\n",
              "\n",
              "    .colab-df-convert {\n",
              "      background-color: #E8F0FE;\n",
              "      border: none;\n",
              "      border-radius: 50%;\n",
              "      cursor: pointer;\n",
              "      display: none;\n",
              "      fill: #1967D2;\n",
              "      height: 32px;\n",
              "      padding: 0 0 0 0;\n",
              "      width: 32px;\n",
              "    }\n",
              "\n",
              "    .colab-df-convert:hover {\n",
              "      background-color: #E2EBFA;\n",
              "      box-shadow: 0px 1px 2px rgba(60, 64, 67, 0.3), 0px 1px 3px 1px rgba(60, 64, 67, 0.15);\n",
              "      fill: #174EA6;\n",
              "    }\n",
              "\n",
              "    .colab-df-buttons div {\n",
              "      margin-bottom: 4px;\n",
              "    }\n",
              "\n",
              "    [theme=dark] .colab-df-convert {\n",
              "      background-color: #3B4455;\n",
              "      fill: #D2E3FC;\n",
              "    }\n",
              "\n",
              "    [theme=dark] .colab-df-convert:hover {\n",
              "      background-color: #434B5C;\n",
              "      box-shadow: 0px 1px 3px 1px rgba(0, 0, 0, 0.15);\n",
              "      filter: drop-shadow(0px 1px 2px rgba(0, 0, 0, 0.3));\n",
              "      fill: #FFFFFF;\n",
              "    }\n",
              "  </style>\n",
              "\n",
              "    <script>\n",
              "      const buttonEl =\n",
              "        document.querySelector('#df-27e01bc5-a9ce-43bf-b0dc-f4f4fce4ef6d button.colab-df-convert');\n",
              "      buttonEl.style.display =\n",
              "        google.colab.kernel.accessAllowed ? 'block' : 'none';\n",
              "\n",
              "      async function convertToInteractive(key) {\n",
              "        const element = document.querySelector('#df-27e01bc5-a9ce-43bf-b0dc-f4f4fce4ef6d');\n",
              "        const dataTable =\n",
              "          await google.colab.kernel.invokeFunction('convertToInteractive',\n",
              "                                                    [key], {});\n",
              "        if (!dataTable) return;\n",
              "\n",
              "        const docLinkHtml = 'Like what you see? Visit the ' +\n",
              "          '<a target=\"_blank\" href=https://colab.research.google.com/notebooks/data_table.ipynb>data table notebook</a>'\n",
              "          + ' to learn more about interactive tables.';\n",
              "        element.innerHTML = '';\n",
              "        dataTable['output_type'] = 'display_data';\n",
              "        await google.colab.output.renderOutput(dataTable, element);\n",
              "        const docLink = document.createElement('div');\n",
              "        docLink.innerHTML = docLinkHtml;\n",
              "        element.appendChild(docLink);\n",
              "      }\n",
              "    </script>\n",
              "  </div>\n",
              "\n",
              "\n",
              "    <div id=\"df-4e10c285-e74d-4a64-9553-638956cc68a4\">\n",
              "      <button class=\"colab-df-quickchart\" onclick=\"quickchart('df-4e10c285-e74d-4a64-9553-638956cc68a4')\"\n",
              "                title=\"Suggest charts\"\n",
              "                style=\"display:none;\">\n",
              "\n",
              "<svg xmlns=\"http://www.w3.org/2000/svg\" height=\"24px\"viewBox=\"0 0 24 24\"\n",
              "     width=\"24px\">\n",
              "    <g>\n",
              "        <path d=\"M19 3H5c-1.1 0-2 .9-2 2v14c0 1.1.9 2 2 2h14c1.1 0 2-.9 2-2V5c0-1.1-.9-2-2-2zM9 17H7v-7h2v7zm4 0h-2V7h2v10zm4 0h-2v-4h2v4z\"/>\n",
              "    </g>\n",
              "</svg>\n",
              "      </button>\n",
              "\n",
              "<style>\n",
              "  .colab-df-quickchart {\n",
              "      --bg-color: #E8F0FE;\n",
              "      --fill-color: #1967D2;\n",
              "      --hover-bg-color: #E2EBFA;\n",
              "      --hover-fill-color: #174EA6;\n",
              "      --disabled-fill-color: #AAA;\n",
              "      --disabled-bg-color: #DDD;\n",
              "  }\n",
              "\n",
              "  [theme=dark] .colab-df-quickchart {\n",
              "      --bg-color: #3B4455;\n",
              "      --fill-color: #D2E3FC;\n",
              "      --hover-bg-color: #434B5C;\n",
              "      --hover-fill-color: #FFFFFF;\n",
              "      --disabled-bg-color: #3B4455;\n",
              "      --disabled-fill-color: #666;\n",
              "  }\n",
              "\n",
              "  .colab-df-quickchart {\n",
              "    background-color: var(--bg-color);\n",
              "    border: none;\n",
              "    border-radius: 50%;\n",
              "    cursor: pointer;\n",
              "    display: none;\n",
              "    fill: var(--fill-color);\n",
              "    height: 32px;\n",
              "    padding: 0;\n",
              "    width: 32px;\n",
              "  }\n",
              "\n",
              "  .colab-df-quickchart:hover {\n",
              "    background-color: var(--hover-bg-color);\n",
              "    box-shadow: 0 1px 2px rgba(60, 64, 67, 0.3), 0 1px 3px 1px rgba(60, 64, 67, 0.15);\n",
              "    fill: var(--button-hover-fill-color);\n",
              "  }\n",
              "\n",
              "  .colab-df-quickchart-complete:disabled,\n",
              "  .colab-df-quickchart-complete:disabled:hover {\n",
              "    background-color: var(--disabled-bg-color);\n",
              "    fill: var(--disabled-fill-color);\n",
              "    box-shadow: none;\n",
              "  }\n",
              "\n",
              "  .colab-df-spinner {\n",
              "    border: 2px solid var(--fill-color);\n",
              "    border-color: transparent;\n",
              "    border-bottom-color: var(--fill-color);\n",
              "    animation:\n",
              "      spin 1s steps(1) infinite;\n",
              "  }\n",
              "\n",
              "  @keyframes spin {\n",
              "    0% {\n",
              "      border-color: transparent;\n",
              "      border-bottom-color: var(--fill-color);\n",
              "      border-left-color: var(--fill-color);\n",
              "    }\n",
              "    20% {\n",
              "      border-color: transparent;\n",
              "      border-left-color: var(--fill-color);\n",
              "      border-top-color: var(--fill-color);\n",
              "    }\n",
              "    30% {\n",
              "      border-color: transparent;\n",
              "      border-left-color: var(--fill-color);\n",
              "      border-top-color: var(--fill-color);\n",
              "      border-right-color: var(--fill-color);\n",
              "    }\n",
              "    40% {\n",
              "      border-color: transparent;\n",
              "      border-right-color: var(--fill-color);\n",
              "      border-top-color: var(--fill-color);\n",
              "    }\n",
              "    60% {\n",
              "      border-color: transparent;\n",
              "      border-right-color: var(--fill-color);\n",
              "    }\n",
              "    80% {\n",
              "      border-color: transparent;\n",
              "      border-right-color: var(--fill-color);\n",
              "      border-bottom-color: var(--fill-color);\n",
              "    }\n",
              "    90% {\n",
              "      border-color: transparent;\n",
              "      border-bottom-color: var(--fill-color);\n",
              "    }\n",
              "  }\n",
              "</style>\n",
              "\n",
              "      <script>\n",
              "        async function quickchart(key) {\n",
              "          const quickchartButtonEl =\n",
              "            document.querySelector('#' + key + ' button');\n",
              "          quickchartButtonEl.disabled = true;  // To prevent multiple clicks.\n",
              "          quickchartButtonEl.classList.add('colab-df-spinner');\n",
              "          try {\n",
              "            const charts = await google.colab.kernel.invokeFunction(\n",
              "                'suggestCharts', [key], {});\n",
              "          } catch (error) {\n",
              "            console.error('Error during call to suggestCharts:', error);\n",
              "          }\n",
              "          quickchartButtonEl.classList.remove('colab-df-spinner');\n",
              "          quickchartButtonEl.classList.add('colab-df-quickchart-complete');\n",
              "        }\n",
              "        (() => {\n",
              "          let quickchartButtonEl =\n",
              "            document.querySelector('#df-4e10c285-e74d-4a64-9553-638956cc68a4 button');\n",
              "          quickchartButtonEl.style.display =\n",
              "            google.colab.kernel.accessAllowed ? 'block' : 'none';\n",
              "        })();\n",
              "      </script>\n",
              "    </div>\n",
              "\n",
              "    </div>\n",
              "  </div>\n"
            ],
            "application/vnd.google.colaboratory.intrinsic+json": {
              "type": "dataframe",
              "variable_name": "df_q1",
              "summary": "{\n  \"name\": \"df_q1\",\n  \"rows\": 245,\n  \"fields\": [\n    {\n      \"column\": \"Original Word\",\n      \"properties\": {\n        \"dtype\": \"string\",\n        \"num_unique_values\": 195,\n        \"samples\": [\n          \"Loved\",\n          \"still\",\n          \"bratty\"\n        ],\n        \"semantic_type\": \"\",\n        \"description\": \"\"\n      }\n    },\n    {\n      \"column\": \"Stemmed\",\n      \"properties\": {\n        \"dtype\": \"string\",\n        \"num_unique_values\": 182,\n        \"samples\": [\n          \"much\",\n          \"inevit\",\n          \"climax\"\n        ],\n        \"semantic_type\": \"\",\n        \"description\": \"\"\n      }\n    },\n    {\n      \"column\": \"Lemmatized\",\n      \"properties\": {\n        \"dtype\": \"string\",\n        \"num_unique_values\": 191,\n        \"samples\": [\n          \"bratty\",\n          \"disturbing\",\n          \"sexual\"\n        ],\n        \"semantic_type\": \"\",\n        \"description\": \"\"\n      }\n    },\n    {\n      \"column\": \"POS Tag\",\n      \"properties\": {\n        \"dtype\": \"category\",\n        \"num_unique_values\": 16,\n        \"samples\": [\n          \"NNP\",\n          \"VBD\",\n          \"IN\"\n        ],\n        \"semantic_type\": \"\",\n        \"description\": \"\"\n      }\n    }\n  ]\n}"
            }
          },
          "metadata": {},
          "execution_count": 3
        }
      ]
    },
    {
      "cell_type": "markdown",
      "source": [
        "# Question 2\n"
      ],
      "metadata": {
        "id": "J83t1QHKFge6"
      }
    },
    {
      "cell_type": "code",
      "source": [
        "# Load the dataset\n",
        "df = pd.read_csv('Tweets.csv')\n",
        "\n",
        "# Show basic info\n",
        "print(df.shape)\n",
        "df[['airline_sentiment', 'text']].head()\n",
        "\n",
        "# Take the first 20 tweets\n",
        "sample_texts = df['text'].head(20).tolist()\n"
      ],
      "metadata": {
        "colab": {
          "base_uri": "https://localhost:8080/"
        },
        "id": "YUryn8Q4FjXa",
        "outputId": "fe7f332b-4dd0-406d-9950-958f25e78124"
      },
      "execution_count": 4,
      "outputs": [
        {
          "output_type": "stream",
          "name": "stdout",
          "text": [
            "(14640, 15)\n"
          ]
        }
      ]
    },
    {
      "cell_type": "markdown",
      "source": [
        "### Bag of Words (BoW)"
      ],
      "metadata": {
        "id": "onvjRA5uGWp4"
      }
    },
    {
      "cell_type": "code",
      "source": [
        "from sklearn.feature_extraction.text import CountVectorizer\n",
        "\n",
        "bow_vectorizer = CountVectorizer()\n",
        "bow_features = bow_vectorizer.fit_transform(sample_texts)\n",
        "\n",
        "print(\"Bag of Words Shape:\", bow_features.shape)\n"
      ],
      "metadata": {
        "colab": {
          "base_uri": "https://localhost:8080/"
        },
        "id": "re4KHSlWGWPT",
        "outputId": "dbd1bdec-9441-4bf1-f0a3-cf5d49b11dc5"
      },
      "execution_count": 5,
      "outputs": [
        {
          "output_type": "stream",
          "name": "stdout",
          "text": [
            "Bag of Words Shape: (20, 178)\n"
          ]
        }
      ]
    },
    {
      "cell_type": "markdown",
      "source": [
        "### TF-IDF"
      ],
      "metadata": {
        "id": "zmYAZ9KaGeH_"
      }
    },
    {
      "cell_type": "code",
      "source": [
        "from sklearn.feature_extraction.text import TfidfVectorizer\n",
        "\n",
        "tfidf_vectorizer = TfidfVectorizer()\n",
        "tfidf_features = tfidf_vectorizer.fit_transform(sample_texts)\n",
        "\n",
        "print(\"TF-IDF Shape:\", tfidf_features.shape)\n"
      ],
      "metadata": {
        "colab": {
          "base_uri": "https://localhost:8080/"
        },
        "id": "kf_Yc1QJGi8e",
        "outputId": "1c1ee594-1372-4b44-d7cd-847445f72db8"
      },
      "execution_count": 6,
      "outputs": [
        {
          "output_type": "stream",
          "name": "stdout",
          "text": [
            "TF-IDF Shape: (20, 178)\n"
          ]
        }
      ]
    },
    {
      "cell_type": "markdown",
      "source": [
        "### Word Embeddings"
      ],
      "metadata": {
        "id": "5GBWO9O4GmAu"
      }
    },
    {
      "cell_type": "code",
      "source": [
        "!pip install gensim"
      ],
      "metadata": {
        "colab": {
          "base_uri": "https://localhost:8080/"
        },
        "id": "FrPnu7m9G-1E",
        "outputId": "86b290d0-9f06-4914-e12c-e73e6deaf705"
      },
      "execution_count": 7,
      "outputs": [
        {
          "output_type": "stream",
          "name": "stdout",
          "text": [
            "Requirement already satisfied: gensim in /usr/local/lib/python3.11/dist-packages (4.3.3)\n",
            "Requirement already satisfied: numpy<2.0,>=1.18.5 in /usr/local/lib/python3.11/dist-packages (from gensim) (1.26.4)\n",
            "Requirement already satisfied: scipy<1.14.0,>=1.7.0 in /usr/local/lib/python3.11/dist-packages (from gensim) (1.13.1)\n",
            "Requirement already satisfied: smart-open>=1.8.1 in /usr/local/lib/python3.11/dist-packages (from gensim) (7.3.0)\n",
            "Requirement already satisfied: wrapt in /usr/local/lib/python3.11/dist-packages (from smart-open>=1.8.1->gensim) (1.17.2)\n"
          ]
        }
      ]
    },
    {
      "cell_type": "code",
      "source": [
        "import nltk\n",
        "nltk.download('punkt')\n",
        "\n",
        "from nltk.tokenize import word_tokenize\n",
        "from gensim.models import Word2Vec\n",
        "\n",
        "# Preprocess: lowercase and tokenize\n",
        "tokenized_texts = [word_tokenize(text.lower()) for text in sample_texts]\n",
        "\n",
        "# Train Word2Vec model\n",
        "w2v_model = Word2Vec(sentences=tokenized_texts, vector_size=100, window=5, min_count=1, workers=4)\n",
        "\n",
        "# Example embedding\n",
        "print(\"Vector for 'flight':\", w2v_model.wv['flight'][:10])\n"
      ],
      "metadata": {
        "colab": {
          "base_uri": "https://localhost:8080/"
        },
        "id": "Tb3l4j6SGr23",
        "outputId": "f19055b2-c87d-43aa-8669-367c472c7541"
      },
      "execution_count": 8,
      "outputs": [
        {
          "output_type": "stream",
          "name": "stderr",
          "text": [
            "[nltk_data] Downloading package punkt to /root/nltk_data...\n",
            "[nltk_data]   Package punkt is already up-to-date!\n"
          ]
        },
        {
          "output_type": "stream",
          "name": "stdout",
          "text": [
            "Vector for 'flight': [-0.00785452 -0.0066969  -0.00313922  0.00666726 -0.00081069  0.00877277\n",
            " -0.00224585 -0.00508009  0.00385905  0.00215545]\n"
          ]
        }
      ]
    },
    {
      "cell_type": "markdown",
      "source": [
        "### Summary"
      ],
      "metadata": {
        "id": "Rr7_J8y3IUPR"
      }
    },
    {
      "cell_type": "code",
      "source": [
        "print(\"Summary of Vector Shapes:\")\n",
        "print(\"Bag of Words matrix shape: \", bow_features.shape)\n",
        "print(\"TF-IDF matrix shape: \", tfidf_features.shape)\n",
        "print(\"Word2Vec vocab size: \", len(w2v_model.wv))\n"
      ],
      "metadata": {
        "colab": {
          "base_uri": "https://localhost:8080/"
        },
        "id": "XvX_yJ5HIWOT",
        "outputId": "c0e80479-1710-4a08-837f-89a5bdd2e372"
      },
      "execution_count": 9,
      "outputs": [
        {
          "output_type": "stream",
          "name": "stdout",
          "text": [
            "Summary of Vector Shapes:\n",
            "Bag of Words matrix shape:  (20, 178)\n",
            "TF-IDF matrix shape:  (20, 178)\n",
            "Word2Vec vocab size:  205\n"
          ]
        }
      ]
    },
    {
      "cell_type": "markdown",
      "source": [
        "# Question 3"
      ],
      "metadata": {
        "id": "rbjkdu86IdVK"
      }
    },
    {
      "cell_type": "code",
      "source": [
        "# Load data\n",
        "df = pd.read_csv('Tweets.csv')\n",
        "\n",
        "# Keep only needed columns\n",
        "df = df[['text', 'airline_sentiment']]\n",
        "\n",
        "# Use first 50 samples (or use df.sample(50) for random)\n",
        "df = df.head(50)"
      ],
      "metadata": {
        "id": "cW1rN0tHIfW-"
      },
      "execution_count": 10,
      "outputs": []
    },
    {
      "cell_type": "code",
      "source": [
        "# Text Preprocessing\n",
        "from sklearn.feature_extraction.text import TfidfVectorizer\n",
        "\n",
        "# Create TF-IDF features\n",
        "vectorizer = TfidfVectorizer(stop_words='english')\n",
        "X = vectorizer.fit_transform(df['text'])\n",
        "\n",
        "# Labels\n",
        "y = df['airline_sentiment']\n"
      ],
      "metadata": {
        "id": "YTOdWZP0Iz3u"
      },
      "execution_count": 11,
      "outputs": []
    },
    {
      "cell_type": "code",
      "source": [
        "# Test-Train Split\n",
        "from sklearn.model_selection import train_test_split\n",
        "\n",
        "# Split (80% train, 20% test)\n",
        "X_train, X_test, y_train, y_test = train_test_split(X, y, test_size=0.2, random_state=42)\n"
      ],
      "metadata": {
        "id": "Fpgzps29I8AC"
      },
      "execution_count": 12,
      "outputs": []
    },
    {
      "cell_type": "markdown",
      "source": [
        "### Logistic Regression\n"
      ],
      "metadata": {
        "id": "EwZ-so0FJCUS"
      }
    },
    {
      "cell_type": "code",
      "source": [
        "from sklearn.linear_model import LogisticRegression\n",
        "\n",
        "lr_model = LogisticRegression(max_iter=1000)\n",
        "lr_model.fit(X_train, y_train)\n",
        "y_pred_lr = lr_model.predict(X_test)\n"
      ],
      "metadata": {
        "id": "Gfr_N31_JFEY"
      },
      "execution_count": 13,
      "outputs": []
    },
    {
      "cell_type": "markdown",
      "source": [
        "### Naive Bias"
      ],
      "metadata": {
        "id": "9ykMJPptJJbj"
      }
    },
    {
      "cell_type": "code",
      "source": [
        "from sklearn.naive_bayes import MultinomialNB\n",
        "\n",
        "nb_model = MultinomialNB()\n",
        "nb_model.fit(X_train, y_train)\n",
        "y_pred_nb = nb_model.predict(X_test)\n"
      ],
      "metadata": {
        "id": "SOVLovHSJLxa"
      },
      "execution_count": 14,
      "outputs": []
    },
    {
      "cell_type": "markdown",
      "source": [
        "### Evaluation Metrics"
      ],
      "metadata": {
        "id": "EssSE5LGJNYj"
      }
    },
    {
      "cell_type": "code",
      "source": [
        "from sklearn.metrics import accuracy_score, f1_score, confusion_matrix, classification_report\n",
        "\n",
        "# Logistic Regression Results\n",
        "print(\"🔹 Logistic Regression\")\n",
        "print(\"Accuracy:\", accuracy_score(y_test, y_pred_lr))\n",
        "print(\"F1 Score:\", f1_score(y_test, y_pred_lr, average='weighted'))\n",
        "print(\"Confusion Matrix:\\n\", confusion_matrix(y_test, y_pred_lr))\n",
        "print(classification_report(y_test, y_pred_lr))\n",
        "\n",
        "# Naive Bayes Results\n",
        "print(\"\\n🔹 Naive Bayes\")\n",
        "print(\"Accuracy:\", accuracy_score(y_test, y_pred_nb))\n",
        "print(\"F1 Score:\", f1_score(y_test, y_pred_nb, average='weighted'))\n",
        "print(\"Confusion Matrix:\\n\", confusion_matrix(y_test, y_pred_nb))\n",
        "print(classification_report(y_test, y_pred_nb))\n"
      ],
      "metadata": {
        "colab": {
          "base_uri": "https://localhost:8080/"
        },
        "id": "QotPEo90JYKb",
        "outputId": "116d9115-fff3-492d-f745-c7bea299c730"
      },
      "execution_count": 15,
      "outputs": [
        {
          "output_type": "stream",
          "name": "stdout",
          "text": [
            "🔹 Logistic Regression\n",
            "Accuracy: 0.3\n",
            "F1 Score: 0.18333333333333332\n",
            "Confusion Matrix:\n",
            " [[0 3 3]\n",
            " [0 1 0]\n",
            " [0 1 2]]\n",
            "              precision    recall  f1-score   support\n",
            "\n",
            "    negative       0.00      0.00      0.00         6\n",
            "     neutral       0.20      1.00      0.33         1\n",
            "    positive       0.40      0.67      0.50         3\n",
            "\n",
            "    accuracy                           0.30        10\n",
            "   macro avg       0.20      0.56      0.28        10\n",
            "weighted avg       0.14      0.30      0.18        10\n",
            "\n",
            "\n",
            "🔹 Naive Bayes\n",
            "Accuracy: 0.3\n",
            "F1 Score: 0.17333333333333334\n",
            "Confusion Matrix:\n",
            " [[0 2 4]\n",
            " [0 1 0]\n",
            " [0 1 2]]\n",
            "              precision    recall  f1-score   support\n",
            "\n",
            "    negative       0.00      0.00      0.00         6\n",
            "     neutral       0.25      1.00      0.40         1\n",
            "    positive       0.33      0.67      0.44         3\n",
            "\n",
            "    accuracy                           0.30        10\n",
            "   macro avg       0.19      0.56      0.28        10\n",
            "weighted avg       0.12      0.30      0.17        10\n",
            "\n"
          ]
        },
        {
          "output_type": "stream",
          "name": "stderr",
          "text": [
            "/usr/local/lib/python3.11/dist-packages/sklearn/metrics/_classification.py:1565: UndefinedMetricWarning: Precision is ill-defined and being set to 0.0 in labels with no predicted samples. Use `zero_division` parameter to control this behavior.\n",
            "  _warn_prf(average, modifier, f\"{metric.capitalize()} is\", len(result))\n",
            "/usr/local/lib/python3.11/dist-packages/sklearn/metrics/_classification.py:1565: UndefinedMetricWarning: Precision is ill-defined and being set to 0.0 in labels with no predicted samples. Use `zero_division` parameter to control this behavior.\n",
            "  _warn_prf(average, modifier, f\"{metric.capitalize()} is\", len(result))\n",
            "/usr/local/lib/python3.11/dist-packages/sklearn/metrics/_classification.py:1565: UndefinedMetricWarning: Precision is ill-defined and being set to 0.0 in labels with no predicted samples. Use `zero_division` parameter to control this behavior.\n",
            "  _warn_prf(average, modifier, f\"{metric.capitalize()} is\", len(result))\n",
            "/usr/local/lib/python3.11/dist-packages/sklearn/metrics/_classification.py:1565: UndefinedMetricWarning: Precision is ill-defined and being set to 0.0 in labels with no predicted samples. Use `zero_division` parameter to control this behavior.\n",
            "  _warn_prf(average, modifier, f\"{metric.capitalize()} is\", len(result))\n",
            "/usr/local/lib/python3.11/dist-packages/sklearn/metrics/_classification.py:1565: UndefinedMetricWarning: Precision is ill-defined and being set to 0.0 in labels with no predicted samples. Use `zero_division` parameter to control this behavior.\n",
            "  _warn_prf(average, modifier, f\"{metric.capitalize()} is\", len(result))\n",
            "/usr/local/lib/python3.11/dist-packages/sklearn/metrics/_classification.py:1565: UndefinedMetricWarning: Precision is ill-defined and being set to 0.0 in labels with no predicted samples. Use `zero_division` parameter to control this behavior.\n",
            "  _warn_prf(average, modifier, f\"{metric.capitalize()} is\", len(result))\n"
          ]
        }
      ]
    },
    {
      "cell_type": "markdown",
      "source": [
        "# Question 4"
      ],
      "metadata": {
        "id": "hPS_bJw1KZ6o"
      }
    },
    {
      "cell_type": "code",
      "source": [
        "text = \"\"\"\n",
        "The castle stood silent under a heavy veil of fog, its towers piercing the grey sky like spears. Harry walked quietly through the empty corridor, the distant echoes of footsteps making his heart pound faster. He wasn't supposed to be out this late, but something deep inside urged him forward. The shadows danced along the walls, and every flicker of torchlight seemed to whisper secrets he wasn’t meant to hear.\n",
        "\n",
        "As he reached the base of the Astronomy Tower, he paused. The night was colder than he expected, and his hands trembled not from the chill, but from fear. What if it was a trap? What if Malfoy really had something terrible planned? He took a deep breath, clutching his wand tighter, and began to climb.\n",
        "\n",
        "At the top, the wind howled and the moon painted silver lines across the floor. But there he was — Malfoy — not with hatred, but tears in his eyes. “I don’t want this anymore,” Malfoy whispered. Harry froze. The boy he once considered an enemy looked broken, fragile. For a moment, the walls between them faded. They stood in silence, sharing the weight of expectations too big for either of them.\n",
        "\n",
        "Then, from the shadows, a voice rang out — cold, clear, final. “Expelliarmus!” Harry turned just in time to see Snape step forward. The world collapsed into chaos. Wands clashed, sparks flew, and everything Harry thought he understood came undone. As the smoke cleared and silence returned, Harry stood alone, the storm outside now echoing the one within him.\n",
        "\"\"\"\n"
      ],
      "metadata": {
        "id": "hJhPQuIZKZkx"
      },
      "execution_count": 16,
      "outputs": []
    },
    {
      "cell_type": "code",
      "source": [
        "# Splitting\n",
        "segments = text.strip().split('\\n')\n",
        "segments = [seg.strip() for seg in segments if seg.strip() != '']\n",
        "print(\"Segments:\", segments)\n"
      ],
      "metadata": {
        "colab": {
          "base_uri": "https://localhost:8080/"
        },
        "id": "ZetpTVpALO5B",
        "outputId": "57facabc-0e05-498f-b3f4-b7b7bb501430"
      },
      "execution_count": 17,
      "outputs": [
        {
          "output_type": "stream",
          "name": "stdout",
          "text": [
            "Segments: [\"The castle stood silent under a heavy veil of fog, its towers piercing the grey sky like spears. Harry walked quietly through the empty corridor, the distant echoes of footsteps making his heart pound faster. He wasn't supposed to be out this late, but something deep inside urged him forward. The shadows danced along the walls, and every flicker of torchlight seemed to whisper secrets he wasn’t meant to hear.\", 'As he reached the base of the Astronomy Tower, he paused. The night was colder than he expected, and his hands trembled not from the chill, but from fear. What if it was a trap? What if Malfoy really had something terrible planned? He took a deep breath, clutching his wand tighter, and began to climb.', 'At the top, the wind howled and the moon painted silver lines across the floor. But there he was — Malfoy — not with hatred, but tears in his eyes. “I don’t want this anymore,” Malfoy whispered. Harry froze. The boy he once considered an enemy looked broken, fragile. For a moment, the walls between them faded. They stood in silence, sharing the weight of expectations too big for either of them.', 'Then, from the shadows, a voice rang out — cold, clear, final. “Expelliarmus!” Harry turned just in time to see Snape step forward. The world collapsed into chaos. Wands clashed, sparks flew, and everything Harry thought he understood came undone. As the smoke cleared and silence returned, Harry stood alone, the storm outside now echoing the one within him.']\n"
          ]
        }
      ]
    },
    {
      "cell_type": "markdown",
      "source": [
        "### VADER"
      ],
      "metadata": {
        "id": "IP7h2YCuLbOg"
      }
    },
    {
      "cell_type": "code",
      "source": [
        "from nltk.sentiment.vader import SentimentIntensityAnalyzer\n",
        "import nltk\n",
        "nltk.download('vader_lexicon')\n",
        "\n",
        "sid = SentimentIntensityAnalyzer()\n",
        "\n",
        "# Compute sentiment for each segment\n",
        "sentiment_scores = [sid.polarity_scores(seg)['compound'] for seg in segments]\n",
        "print(sentiment_scores)\n"
      ],
      "metadata": {
        "colab": {
          "base_uri": "https://localhost:8080/"
        },
        "id": "gnX4x3WxLUYq",
        "outputId": "885eb335-239f-4f62-bba3-a9ae4ca2b3e6"
      },
      "execution_count": 18,
      "outputs": [
        {
          "output_type": "stream",
          "name": "stderr",
          "text": [
            "[nltk_data] Downloading package vader_lexicon to /root/nltk_data...\n"
          ]
        },
        {
          "output_type": "stream",
          "name": "stdout",
          "text": [
            "[0.1154, -0.9261, -0.2842, -0.6239]\n"
          ]
        }
      ]
    },
    {
      "cell_type": "markdown",
      "source": [
        "### Sentiment Trajectory"
      ],
      "metadata": {
        "id": "FNcA0DZLLmRJ"
      }
    },
    {
      "cell_type": "code",
      "source": [
        "import matplotlib.pyplot as plt\n",
        "\n",
        "plt.plot(range(1, len(sentiment_scores)+1), sentiment_scores, marker='o', linestyle='-', color='blue')\n",
        "plt.title('Emotional Trajectory')\n",
        "plt.xlabel('Segment Number')\n",
        "plt.ylabel('Sentiment Score')\n",
        "plt.ylim(-1, 1)\n",
        "plt.grid(True)\n",
        "plt.xticks(range(1, len(sentiment_scores)+1))\n",
        "plt.show()\n"
      ],
      "metadata": {
        "colab": {
          "base_uri": "https://localhost:8080/",
          "height": 472
        },
        "id": "nzGfC9L3LrGt",
        "outputId": "e72c33f7-4a12-43c7-ae90-50eef7c61628"
      },
      "execution_count": 19,
      "outputs": [
        {
          "output_type": "display_data",
          "data": {
            "text/plain": [
              "<Figure size 640x480 with 1 Axes>"
            ],
            "image/png": "[encoded data removed]"
          },
          "metadata": {}
        }
      ]
    }
  ]
}